{
 "cells": [
  {
   "cell_type": "code",
   "execution_count": 1,
   "metadata": {
    "collapsed": true
   },
   "outputs": [],
   "source": [
    "import numpy as np\n",
    "import matplotlib.pyplot as plt\n",
    "import pandas as pd\n",
    "import sys \n",
    "import os\n",
    "import skimage.io\n",
    "import caffe\n",
    "from scipy.misc import imread,toimage\n",
    "caffe.set_mode_gpu()\n",
    "\n",
    "import visualisation\n",
    "import excitation_backprop\n",
    "import debug\n",
    "import beoid\n",
    "\n",
    "%load_ext autoreload\n",
    "%autoreload 2"
   ]
  },
  {
   "cell_type": "code",
   "execution_count": 79,
   "metadata": {
    "collapsed": true
   },
   "outputs": [],
   "source": [
    "import beoid_spatial_config\n",
    "import beoid_temporal_config\n",
    "\n",
    "spatial_net_config = beoid_spatial_config\n",
    "temporal_net_config = beoid_temporal_config\n",
    "spatial_net_name = \"spatial_beoid\"\n",
    "temporal_net_name = \"temporal_beoid\"\n",
    "\n",
    "spatial_net = caffe.Net(spatial_net_config.net_prototxt_path,\n",
    "                spatial_net_config.net_caffemodel_path,\n",
    "                caffe.TEST)\n",
    "temporal_net = caffe.Net(temporal_net_config.net_prototxt_path,\n",
    "                temporal_net_config.net_caffemodel_path,\n",
    "                caffe.TEST)\n"
   ]
  },
  {
   "cell_type": "code",
   "execution_count": 3,
   "metadata": {
    "collapsed": true
   },
   "outputs": [],
   "source": [
    "extensions = ['pdf', 'png']"
   ]
  },
  {
   "cell_type": "code",
   "execution_count": 4,
   "metadata": {},
   "outputs": [
    {
     "data": {
      "text/plain": [
       "{'conv1_1': (64, 20, 3, 3),\n",
       " 'conv1_2': (64, 64, 3, 3),\n",
       " 'conv2_1': (128, 64, 3, 3),\n",
       " 'conv2_2': (128, 128, 3, 3),\n",
       " 'conv3_1': (256, 128, 3, 3),\n",
       " 'conv3_2': (256, 256, 3, 3),\n",
       " 'conv3_3': (256, 256, 3, 3),\n",
       " 'conv4_1': (512, 256, 3, 3),\n",
       " 'conv4_2': (512, 512, 3, 3),\n",
       " 'conv4_3': (512, 512, 3, 3),\n",
       " 'conv5_1': (512, 512, 3, 3),\n",
       " 'conv5_2': (512, 512, 3, 3),\n",
       " 'conv5_3': (512, 512, 3, 3),\n",
       " 'fc6': (4096, 25088),\n",
       " 'fc7': (4096, 4096),\n",
       " 'fc8': (34, 4096)}"
      ]
     },
     "execution_count": 4,
     "metadata": {},
     "output_type": "execute_result"
    }
   ],
   "source": [
    "debug.filter_shapes(temporal_net)"
   ]
  },
  {
   "cell_type": "code",
   "execution_count": 5,
   "metadata": {},
   "outputs": [
    {
     "data": {
      "text/plain": [
       "{'conv1_1': (64, 3, 3, 3),\n",
       " 'conv1_2': (64, 64, 3, 3),\n",
       " 'conv2_1': (128, 64, 3, 3),\n",
       " 'conv2_2': (128, 128, 3, 3),\n",
       " 'conv3_1': (256, 128, 3, 3),\n",
       " 'conv3_2': (256, 256, 3, 3),\n",
       " 'conv3_3': (256, 256, 3, 3),\n",
       " 'conv4_1': (512, 256, 3, 3),\n",
       " 'conv4_2': (512, 512, 3, 3),\n",
       " 'conv4_3': (512, 512, 3, 3),\n",
       " 'conv5_1': (512, 512, 3, 3),\n",
       " 'conv5_2': (512, 512, 3, 3),\n",
       " 'conv5_3': (512, 512, 3, 3),\n",
       " 'fc6': (4096, 25088),\n",
       " 'fc7': (4096, 4096),\n",
       " 'fc8': (34, 4096)}"
      ]
     },
     "execution_count": 5,
     "metadata": {},
     "output_type": "execute_result"
    }
   ],
   "source": [
    "debug.filter_shapes(spatial_net)"
   ]
  },
  {
   "cell_type": "code",
   "execution_count": 81,
   "metadata": {},
   "outputs": [
    {
     "data": {
      "image/png": "[encoded data removed]",
      "text/plain": [
       "<matplotlib.figure.Figure at 0x7f7557ae2940>"
      ]
     },
     "execution_count": 81,
     "metadata": {},
     "output_type": "execute_result"
    }
   ],
   "source": [
    "layer = 'conv1_1'\n",
    "spatial_filters = visualisation.show_filters(spatial_net, layer)\n",
    "for ext in extensions:\n",
    "    spatial_filters.savefig('{}_{}_filters.{}'.format(spatial_net_name, layer, ext))\n",
    "spatial_filters"
   ]
  },
  {
   "cell_type": "code",
   "execution_count": 75,
   "metadata": {},
   "outputs": [
    {
     "data": {
      "text/plain": [
       "<matplotlib.figure.Figure at 0x7f754ff65d68>"
      ]
     },
     "metadata": {},
     "output_type": "display_data"
    },
    {
     "data": {
      "text/plain": [
       "<matplotlib.figure.Figure at 0x7f754ffe6898>"
      ]
     },
     "metadata": {},
     "output_type": "display_data"
    },
    {
     "data": {
      "image/png": "[encoded data removed]",
      "text/plain": [
       "<matplotlib.figure.Figure at 0x7f754ff5a4a8>"
      ]
     },
     "metadata": {},
     "output_type": "display_data"
    }
   ],
   "source": [
    "temporal_conv1_1_filter_vis = visualisation.show_grayscale_filters(temporal_net, 'conv1_1', \n",
    "                                                                   scaling_method=visualisation.SCALING_METHODS.KERNEL_SLICE)\n",
    "plt.show()\n",
    "\n",
    "half_height = int(len(temporal_conv1_1_filter_vis)/2)\n",
    "                  \n",
    "plt.clf()\n",
    "fig, axes = plt.subplots(1, 2)\n",
    "axes[0].imshow(temporal_conv1_1_filter_vis[:half_height], cmap='gray')\n",
    "axes[0].axis('off')\n",
    "axes[1].imshow(temporal_conv1_1_filter_vis[half_height:], cmap='gray')\n",
    "axes[1].axis('off')\n",
    "plt.savefig('temporal_conv1_1_beoid_figure.png')\n",
    "plt.savefig('temporal_conv1_1_beoid_figure.pdf')\n",
    "plt.show()\n",
    "plt.clf()"
   ]
  },
  {
   "cell_type": "code",
   "execution_count": 67,
   "metadata": {},
   "outputs": [
    {
     "name": "stdout",
     "output_type": "stream",
     "text": [
      "(20, 3, 3)\n",
      "(20, 3, 3)\n",
      "[[-0.11021307 -0.11919151 -0.11723115]\n",
      " [-0.08962592 -0.02022405 -0.12066086]\n",
      " [-0.12711222 -0.10113279 -0.13819917]]\n",
      "[[ 0.02133455 -0.06341673 -0.34088576]\n",
      " [ 0.37232706  0.39033887 -0.26115718]\n",
      " [ 0.07138209  0.06664818 -0.29118317]]\n"
     ]
    }
   ],
   "source": [
    "third_last_filter = temporal_net.params['conv1_1'][0].data[-3]\n",
    "last_filter = temporal_net.params['conv1_1'][0].data[-1]\n",
    "print(third_last_filter.shape)\n",
    "print(last_filter.shape)\n",
    "print(third_last_filter[0])\n",
    "print(last_filter[0])"
   ]
  },
  {
   "cell_type": "code",
   "execution_count": 69,
   "metadata": {},
   "outputs": [
    {
     "data": {
      "text/plain": [
       "['conv1_1',\n",
       " 'conv1_2',\n",
       " 'conv2_1',\n",
       " 'conv2_2',\n",
       " 'conv3_1',\n",
       " 'conv3_2',\n",
       " 'conv3_3',\n",
       " 'conv4_1',\n",
       " 'conv4_2',\n",
       " 'conv4_3',\n",
       " 'conv5_1',\n",
       " 'conv5_2',\n",
       " 'conv5_3']"
      ]
     },
     "execution_count": 69,
     "metadata": {},
     "output_type": "execute_result"
    }
   ],
   "source": [
    "block_configurations = [(block, block_id) for block, block_limit in [(1, 2), (2, 2), (3, 3), (4, 3), (5, 3)]\n",
    "                                          for block_id in range(1, block_limit + 1)]\n",
    "conv_layers = [\"conv{}_{}\".format(block, block_id) for block, block_id in block_configurations]\n",
    "conv_layers"
   ]
  },
  {
   "cell_type": "code",
   "execution_count": 70,
   "metadata": {
    "collapsed": true
   },
   "outputs": [],
   "source": [
    "dataset_name = \"beoid\"\n",
    "for net_name, net in [('spatial', spatial_net), ('temporal', temporal_net)]:\n",
    "    for conv_layer in conv_layers:\n",
    "        filters = toimage(visualisation.show_grayscale_filters(net, conv_layer))\n",
    "        filters.save('{}_{}_{}_filters.png'.format(net_name, dataset_name, conv_layer))"
   ]
  },
  {
   "cell_type": "code",
   "execution_count": 72,
   "metadata": {
    "collapsed": true
   },
   "outputs": [],
   "source": [
    "for name, net in [(\"spatial\", spatial_net), (\"temporal\", temporal_net)]:\n",
    "    for fc_layer in ['fc6', 'fc7']:\n",
    "        toimage(visualisation.show_grayscale_filters(net, fc_layer)).save(\n",
    "            '{}_{}_{}.png'.format(name, dataset_name, fc_layer))"
   ]
  }
 ],
 "metadata": {
  "kernelspec": {
   "display_name": "Python 3",
   "language": "python",
   "name": "python3"
  },
  "language_info": {
   "codemirror_mode": {
    "name": "ipython",
    "version": 3
   },
   "file_extension": ".py",
   "mimetype": "text/x-python",
   "name": "python",
   "nbconvert_exporter": "python",
   "pygments_lexer": "ipython3",
   "version": "3.5.2"
  }
 },
 "nbformat": 4,
 "nbformat_minor": 2
}
