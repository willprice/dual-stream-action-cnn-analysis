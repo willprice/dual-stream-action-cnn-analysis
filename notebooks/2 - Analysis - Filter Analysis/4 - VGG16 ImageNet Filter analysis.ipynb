{
 "cells": [
  {
   "cell_type": "code",
   "execution_count": 3,
   "metadata": {
    "collapsed": true
   },
   "outputs": [],
   "source": [
    "import numpy as np\n",
    "import matplotlib.pyplot as plt\n",
    "import pandas as pd\n",
    "import sys \n",
    "import os\n",
    "import skimage.io\n",
    "import caffe\n",
    "caffe.set_mode_gpu()\n",
    "\n",
    "import visualisation\n",
    "import excitation_backprop\n",
    "import debug\n",
    "import beoid\n",
    "\n",
    "%load_ext autoreload\n",
    "%autoreload 2"
   ]
  },
  {
   "cell_type": "code",
   "execution_count": 4,
   "metadata": {},
   "outputs": [],
   "source": [
    "import vgg16_imagenet_config\n",
    "\n",
    "net_name = 'vgg-16_imagenet'\n",
    "net = caffe.Net(vgg16_imagenet_config.net_prototxt_path,\n",
    "                vgg16_imagenet_config.net_caffemodel_path,\n",
    "                caffe.TEST)"
   ]
  },
  {
   "cell_type": "code",
   "execution_count": 6,
   "metadata": {},
   "outputs": [
    {
     "data": {
      "image/png": "[encoded data removed]",
      "text/plain": [
       "<matplotlib.figure.Figure at 0x7fec568d96a0>"
      ]
     },
     "execution_count": 6,
     "metadata": {},
     "output_type": "execute_result"
    }
   ],
   "source": [
    "layer = 'conv1_1'\n",
    "filters = visualisation.show_filters(net, layer)\n",
    "extensions = ['pdf', 'png']\n",
    "for ext in extensions:\n",
    "    filters.savefig('{}_{}_filters.{}'.format(net_name, layer, ext))\n",
    "filters"
   ]
  }
 ],
 "metadata": {
  "kernelspec": {
   "display_name": "Python 3",
   "language": "python",
   "name": "python3"
  },
  "language_info": {
   "codemirror_mode": {
    "name": "ipython",
    "version": 3
   },
   "file_extension": ".py",
   "mimetype": "text/x-python",
   "name": "python",
   "nbconvert_exporter": "python",
   "pygments_lexer": "ipython3",
   "version": "3.5.2"
  }
 },
 "nbformat": 4,
 "nbformat_minor": 2
}
